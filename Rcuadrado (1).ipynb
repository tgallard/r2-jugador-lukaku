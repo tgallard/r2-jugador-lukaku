{
 "cells": [
  {
   "cell_type": "markdown",
   "id": "9218630d",
   "metadata": {},
   "source": [
    "# Imports"
   ]
  },
  {
   "cell_type": "code",
   "execution_count": 18,
   "id": "c6953c01",
   "metadata": {},
   "outputs": [],
   "source": [
    "import numpy as np\n",
    "import pandas as pd \n",
    "import matplotlib.pyplot as plt\n",
    "import statsmodels.formula.api as smf\n",
    "from sklearn.linear_model import LinearRegression"
   ]
  },
  {
   "cell_type": "markdown",
   "id": "edbc640f",
   "metadata": {},
   "source": [
    "# Leer el dataset"
   ]
  },
  {
   "cell_type": "code",
   "execution_count": 5,
   "id": "fd37be15",
   "metadata": {},
   "outputs": [
    {
     "data": {
      "text/html": [
       "<div>\n",
       "<style scoped>\n",
       "    .dataframe tbody tr th:only-of-type {\n",
       "        vertical-align: middle;\n",
       "    }\n",
       "\n",
       "    .dataframe tbody tr th {\n",
       "        vertical-align: top;\n",
       "    }\n",
       "\n",
       "    .dataframe thead th {\n",
       "        text-align: right;\n",
       "    }\n",
       "</style>\n",
       "<table border=\"1\" class=\"dataframe\">\n",
       "  <thead>\n",
       "    <tr style=\"text-align: right;\">\n",
       "      <th></th>\n",
       "      <th>temporada</th>\n",
       "      <th>partidos</th>\n",
       "      <th>goles</th>\n",
       "      <th>golesac</th>\n",
       "      <th>partidosac</th>\n",
       "    </tr>\n",
       "  </thead>\n",
       "  <tbody>\n",
       "    <tr>\n",
       "      <th>0</th>\n",
       "      <td>2009/2010</td>\n",
       "      <td>44</td>\n",
       "      <td>19</td>\n",
       "      <td>19</td>\n",
       "      <td>44</td>\n",
       "    </tr>\n",
       "    <tr>\n",
       "      <th>1</th>\n",
       "      <td>2010/2011</td>\n",
       "      <td>50</td>\n",
       "      <td>20</td>\n",
       "      <td>39</td>\n",
       "      <td>94</td>\n",
       "    </tr>\n",
       "    <tr>\n",
       "      <th>2</th>\n",
       "      <td>2011/2012</td>\n",
       "      <td>12</td>\n",
       "      <td>0</td>\n",
       "      <td>39</td>\n",
       "      <td>106</td>\n",
       "    </tr>\n",
       "    <tr>\n",
       "      <th>3</th>\n",
       "      <td>2012/2013</td>\n",
       "      <td>38</td>\n",
       "      <td>17</td>\n",
       "      <td>56</td>\n",
       "      <td>144</td>\n",
       "    </tr>\n",
       "    <tr>\n",
       "      <th>4</th>\n",
       "      <td>2013-2014</td>\n",
       "      <td>33</td>\n",
       "      <td>16</td>\n",
       "      <td>72</td>\n",
       "      <td>177</td>\n",
       "    </tr>\n",
       "    <tr>\n",
       "      <th>5</th>\n",
       "      <td>2014-2015</td>\n",
       "      <td>46</td>\n",
       "      <td>18</td>\n",
       "      <td>90</td>\n",
       "      <td>223</td>\n",
       "    </tr>\n",
       "    <tr>\n",
       "      <th>6</th>\n",
       "      <td>2015-2016</td>\n",
       "      <td>37</td>\n",
       "      <td>18</td>\n",
       "      <td>108</td>\n",
       "      <td>260</td>\n",
       "    </tr>\n",
       "    <tr>\n",
       "      <th>7</th>\n",
       "      <td>2016-2017</td>\n",
       "      <td>37</td>\n",
       "      <td>25</td>\n",
       "      <td>133</td>\n",
       "      <td>297</td>\n",
       "    </tr>\n",
       "    <tr>\n",
       "      <th>8</th>\n",
       "      <td>2017-2018</td>\n",
       "      <td>43</td>\n",
       "      <td>22</td>\n",
       "      <td>155</td>\n",
       "      <td>340</td>\n",
       "    </tr>\n",
       "    <tr>\n",
       "      <th>9</th>\n",
       "      <td>2018-2019</td>\n",
       "      <td>41</td>\n",
       "      <td>14</td>\n",
       "      <td>169</td>\n",
       "      <td>381</td>\n",
       "    </tr>\n",
       "    <tr>\n",
       "      <th>10</th>\n",
       "      <td>2019-2020</td>\n",
       "      <td>47</td>\n",
       "      <td>32</td>\n",
       "      <td>201</td>\n",
       "      <td>428</td>\n",
       "    </tr>\n",
       "    <tr>\n",
       "      <th>11</th>\n",
       "      <td>2020-2021</td>\n",
       "      <td>41</td>\n",
       "      <td>28</td>\n",
       "      <td>229</td>\n",
       "      <td>469</td>\n",
       "    </tr>\n",
       "    <tr>\n",
       "      <th>12</th>\n",
       "      <td>2021-2022</td>\n",
       "      <td>31</td>\n",
       "      <td>10</td>\n",
       "      <td>239</td>\n",
       "      <td>500</td>\n",
       "    </tr>\n",
       "    <tr>\n",
       "      <th>13</th>\n",
       "      <td>2022-2023</td>\n",
       "      <td>3</td>\n",
       "      <td>1</td>\n",
       "      <td>240</td>\n",
       "      <td>503</td>\n",
       "    </tr>\n",
       "  </tbody>\n",
       "</table>\n",
       "</div>"
      ],
      "text/plain": [
       "    temporada  partidos  goles  golesac  partidosac\n",
       "0   2009/2010        44     19       19          44\n",
       "1   2010/2011        50     20       39          94\n",
       "2   2011/2012        12      0       39         106\n",
       "3   2012/2013        38     17       56         144\n",
       "4   2013-2014        33     16       72         177\n",
       "5   2014-2015        46     18       90         223\n",
       "6   2015-2016        37     18      108         260\n",
       "7   2016-2017        37     25      133         297\n",
       "8   2017-2018        43     22      155         340\n",
       "9   2018-2019        41     14      169         381\n",
       "10  2019-2020        47     32      201         428\n",
       "11  2020-2021        41     28      229         469\n",
       "12  2021-2022        31     10      239         500\n",
       "13  2022-2023         3      1      240         503"
      ]
     },
     "execution_count": 5,
     "metadata": {},
     "output_type": "execute_result"
    }
   ],
   "source": [
    "data = pd.read_excel (\"Libro2.xlsx\")\n",
    "data  # ac = acumulados"
   ]
  },
  {
   "cell_type": "markdown",
   "id": "1b19b809",
   "metadata": {},
   "source": [
    "# Mostrar estadísticos básicos"
   ]
  },
  {
   "cell_type": "code",
   "execution_count": 6,
   "id": "d703c51d",
   "metadata": {},
   "outputs": [
    {
     "data": {
      "text/html": [
       "<div>\n",
       "<style scoped>\n",
       "    .dataframe tbody tr th:only-of-type {\n",
       "        vertical-align: middle;\n",
       "    }\n",
       "\n",
       "    .dataframe tbody tr th {\n",
       "        vertical-align: top;\n",
       "    }\n",
       "\n",
       "    .dataframe thead th {\n",
       "        text-align: right;\n",
       "    }\n",
       "</style>\n",
       "<table border=\"1\" class=\"dataframe\">\n",
       "  <thead>\n",
       "    <tr style=\"text-align: right;\">\n",
       "      <th></th>\n",
       "      <th>partidos</th>\n",
       "      <th>goles</th>\n",
       "      <th>golesac</th>\n",
       "      <th>partidosac</th>\n",
       "    </tr>\n",
       "  </thead>\n",
       "  <tbody>\n",
       "    <tr>\n",
       "      <th>count</th>\n",
       "      <td>14.000000</td>\n",
       "      <td>14.000000</td>\n",
       "      <td>14.000000</td>\n",
       "      <td>14.000000</td>\n",
       "    </tr>\n",
       "    <tr>\n",
       "      <th>mean</th>\n",
       "      <td>35.928571</td>\n",
       "      <td>17.142857</td>\n",
       "      <td>127.785714</td>\n",
       "      <td>283.285714</td>\n",
       "    </tr>\n",
       "    <tr>\n",
       "      <th>std</th>\n",
       "      <td>13.257592</td>\n",
       "      <td>9.003052</td>\n",
       "      <td>78.796894</td>\n",
       "      <td>157.630253</td>\n",
       "    </tr>\n",
       "    <tr>\n",
       "      <th>min</th>\n",
       "      <td>3.000000</td>\n",
       "      <td>0.000000</td>\n",
       "      <td>19.000000</td>\n",
       "      <td>44.000000</td>\n",
       "    </tr>\n",
       "    <tr>\n",
       "      <th>25%</th>\n",
       "      <td>34.000000</td>\n",
       "      <td>14.500000</td>\n",
       "      <td>60.000000</td>\n",
       "      <td>152.250000</td>\n",
       "    </tr>\n",
       "    <tr>\n",
       "      <th>50%</th>\n",
       "      <td>39.500000</td>\n",
       "      <td>18.000000</td>\n",
       "      <td>120.500000</td>\n",
       "      <td>278.500000</td>\n",
       "    </tr>\n",
       "    <tr>\n",
       "      <th>75%</th>\n",
       "      <td>43.750000</td>\n",
       "      <td>21.500000</td>\n",
       "      <td>193.000000</td>\n",
       "      <td>416.250000</td>\n",
       "    </tr>\n",
       "    <tr>\n",
       "      <th>max</th>\n",
       "      <td>50.000000</td>\n",
       "      <td>32.000000</td>\n",
       "      <td>240.000000</td>\n",
       "      <td>503.000000</td>\n",
       "    </tr>\n",
       "  </tbody>\n",
       "</table>\n",
       "</div>"
      ],
      "text/plain": [
       "        partidos      goles     golesac  partidosac\n",
       "count  14.000000  14.000000   14.000000   14.000000\n",
       "mean   35.928571  17.142857  127.785714  283.285714\n",
       "std    13.257592   9.003052   78.796894  157.630253\n",
       "min     3.000000   0.000000   19.000000   44.000000\n",
       "25%    34.000000  14.500000   60.000000  152.250000\n",
       "50%    39.500000  18.000000  120.500000  278.500000\n",
       "75%    43.750000  21.500000  193.000000  416.250000\n",
       "max    50.000000  32.000000  240.000000  503.000000"
      ]
     },
     "execution_count": 6,
     "metadata": {},
     "output_type": "execute_result"
    }
   ],
   "source": [
    "data.describe()"
   ]
  },
  {
   "cell_type": "markdown",
   "id": "33fe40d1",
   "metadata": {},
   "source": [
    "# Informacion del dataset"
   ]
  },
  {
   "cell_type": "code",
   "execution_count": 7,
   "id": "da24faa6",
   "metadata": {},
   "outputs": [
    {
     "data": {
      "text/plain": [
       "<bound method DataFrame.info of     temporada  partidos  goles  golesac  partidosac\n",
       "0   2009/2010        44     19       19          44\n",
       "1   2010/2011        50     20       39          94\n",
       "2   2011/2012        12      0       39         106\n",
       "3   2012/2013        38     17       56         144\n",
       "4   2013-2014        33     16       72         177\n",
       "5   2014-2015        46     18       90         223\n",
       "6   2015-2016        37     18      108         260\n",
       "7   2016-2017        37     25      133         297\n",
       "8   2017-2018        43     22      155         340\n",
       "9   2018-2019        41     14      169         381\n",
       "10  2019-2020        47     32      201         428\n",
       "11  2020-2021        41     28      229         469\n",
       "12  2021-2022        31     10      239         500\n",
       "13  2022-2023         3      1      240         503>"
      ]
     },
     "execution_count": 7,
     "metadata": {},
     "output_type": "execute_result"
    }
   ],
   "source": [
    "data.info"
   ]
  },
  {
   "cell_type": "markdown",
   "id": "d4292914",
   "metadata": {},
   "source": [
    "# Mostrar dispercion de datos de los valores \"partidosac\" y \"golesac\""
   ]
  },
  {
   "cell_type": "code",
   "execution_count": 8,
   "id": "138d981e",
   "metadata": {},
   "outputs": [
    {
     "data": {
      "text/plain": [
       "<AxesSubplot:xlabel='partidosac', ylabel='golesac'>"
      ]
     },
     "execution_count": 8,
     "metadata": {},
     "output_type": "execute_result"
    },
    {
     "data": {
      "image/png": "[encoded data removed]",
      "text/plain": [
       "<Figure size 432x288 with 1 Axes>"
      ]
     },
     "metadata": {
      "needs_background": "light"
     },
     "output_type": "display_data"
    }
   ],
   "source": [
    "data.plot.scatter(x=\"partidosac\", y=\"golesac\")"
   ]
  },
  {
   "cell_type": "markdown",
   "id": "d89d07bd",
   "metadata": {},
   "source": [
    "# Regresión lineal"
   ]
  },
  {
   "cell_type": "code",
   "execution_count": 9,
   "id": "eb191470",
   "metadata": {},
   "outputs": [
    {
     "data": {
      "text/plain": [
       "LinearRegression()"
      ]
     },
     "execution_count": 9,
     "metadata": {},
     "output_type": "execute_result"
    }
   ],
   "source": [
    "reg = LinearRegression()\n",
    "reg.fit(data[[\"partidosac\"]], data[\"golesac\"])"
   ]
  },
  {
   "cell_type": "markdown",
   "id": "76125821",
   "metadata": {},
   "source": [
    "# Predicción"
   ]
  },
  {
   "cell_type": "code",
   "execution_count": 10,
   "id": "ab501298",
   "metadata": {},
   "outputs": [
    {
     "name": "stderr",
     "output_type": "stream",
     "text": [
      "C:\\Users\\tomas\\anaconda3\\lib\\site-packages\\sklearn\\base.py:450: UserWarning: X does not have valid feature names, but LinearRegression was fitted with feature names\n",
      "  warnings.warn(\n"
     ]
    },
    {
     "data": {
      "text/plain": [
       "array([86.26470432, 36.41100454])"
      ]
     },
     "execution_count": 10,
     "metadata": {},
     "output_type": "execute_result"
    }
   ],
   "source": [
    " reg.predict([[200],[100]])"
   ]
  },
  {
   "cell_type": "code",
   "execution_count": 11,
   "id": "bd60cfac",
   "metadata": {},
   "outputs": [
    {
     "data": {
      "text/plain": [
       "0       8.492933\n",
       "1      33.419783\n",
       "2      39.402227\n",
       "3      58.346632\n",
       "4      74.798353\n",
       "5      97.731055\n",
       "6     116.176924\n",
       "7     134.622793\n",
       "8     156.059884\n",
       "9     176.499901\n",
       "10    199.931140\n",
       "11    220.371157\n",
       "12    235.825804\n",
       "13    237.321415\n",
       "dtype: float64"
      ]
     },
     "execution_count": 11,
     "metadata": {},
     "output_type": "execute_result"
    }
   ],
   "source": [
    "pred = pd.Series(reg.predict(data[[\"partidosac\"]]))\n",
    "pred\n"
   ]
  },
  {
   "cell_type": "code",
   "execution_count": 12,
   "id": "d39e3b9f",
   "metadata": {
    "scrolled": true
   },
   "outputs": [
    {
     "data": {
      "text/html": [
       "<div>\n",
       "<style scoped>\n",
       "    .dataframe tbody tr th:only-of-type {\n",
       "        vertical-align: middle;\n",
       "    }\n",
       "\n",
       "    .dataframe tbody tr th {\n",
       "        vertical-align: top;\n",
       "    }\n",
       "\n",
       "    .dataframe thead th {\n",
       "        text-align: right;\n",
       "    }\n",
       "</style>\n",
       "<table border=\"1\" class=\"dataframe\">\n",
       "  <thead>\n",
       "    <tr style=\"text-align: right;\">\n",
       "      <th></th>\n",
       "      <th>temporada</th>\n",
       "      <th>partidos</th>\n",
       "      <th>goles</th>\n",
       "      <th>golesac</th>\n",
       "      <th>partidosac</th>\n",
       "      <th>prediccion</th>\n",
       "    </tr>\n",
       "  </thead>\n",
       "  <tbody>\n",
       "    <tr>\n",
       "      <th>0</th>\n",
       "      <td>2009/2010</td>\n",
       "      <td>44</td>\n",
       "      <td>19</td>\n",
       "      <td>19</td>\n",
       "      <td>44</td>\n",
       "      <td>8.492933</td>\n",
       "    </tr>\n",
       "    <tr>\n",
       "      <th>1</th>\n",
       "      <td>2010/2011</td>\n",
       "      <td>50</td>\n",
       "      <td>20</td>\n",
       "      <td>39</td>\n",
       "      <td>94</td>\n",
       "      <td>33.419783</td>\n",
       "    </tr>\n",
       "    <tr>\n",
       "      <th>2</th>\n",
       "      <td>2011/2012</td>\n",
       "      <td>12</td>\n",
       "      <td>0</td>\n",
       "      <td>39</td>\n",
       "      <td>106</td>\n",
       "      <td>39.402227</td>\n",
       "    </tr>\n",
       "    <tr>\n",
       "      <th>3</th>\n",
       "      <td>2012/2013</td>\n",
       "      <td>38</td>\n",
       "      <td>17</td>\n",
       "      <td>56</td>\n",
       "      <td>144</td>\n",
       "      <td>58.346632</td>\n",
       "    </tr>\n",
       "    <tr>\n",
       "      <th>4</th>\n",
       "      <td>2013-2014</td>\n",
       "      <td>33</td>\n",
       "      <td>16</td>\n",
       "      <td>72</td>\n",
       "      <td>177</td>\n",
       "      <td>74.798353</td>\n",
       "    </tr>\n",
       "    <tr>\n",
       "      <th>5</th>\n",
       "      <td>2014-2015</td>\n",
       "      <td>46</td>\n",
       "      <td>18</td>\n",
       "      <td>90</td>\n",
       "      <td>223</td>\n",
       "      <td>97.731055</td>\n",
       "    </tr>\n",
       "    <tr>\n",
       "      <th>6</th>\n",
       "      <td>2015-2016</td>\n",
       "      <td>37</td>\n",
       "      <td>18</td>\n",
       "      <td>108</td>\n",
       "      <td>260</td>\n",
       "      <td>116.176924</td>\n",
       "    </tr>\n",
       "    <tr>\n",
       "      <th>7</th>\n",
       "      <td>2016-2017</td>\n",
       "      <td>37</td>\n",
       "      <td>25</td>\n",
       "      <td>133</td>\n",
       "      <td>297</td>\n",
       "      <td>134.622793</td>\n",
       "    </tr>\n",
       "    <tr>\n",
       "      <th>8</th>\n",
       "      <td>2017-2018</td>\n",
       "      <td>43</td>\n",
       "      <td>22</td>\n",
       "      <td>155</td>\n",
       "      <td>340</td>\n",
       "      <td>156.059884</td>\n",
       "    </tr>\n",
       "    <tr>\n",
       "      <th>9</th>\n",
       "      <td>2018-2019</td>\n",
       "      <td>41</td>\n",
       "      <td>14</td>\n",
       "      <td>169</td>\n",
       "      <td>381</td>\n",
       "      <td>176.499901</td>\n",
       "    </tr>\n",
       "    <tr>\n",
       "      <th>10</th>\n",
       "      <td>2019-2020</td>\n",
       "      <td>47</td>\n",
       "      <td>32</td>\n",
       "      <td>201</td>\n",
       "      <td>428</td>\n",
       "      <td>199.931140</td>\n",
       "    </tr>\n",
       "    <tr>\n",
       "      <th>11</th>\n",
       "      <td>2020-2021</td>\n",
       "      <td>41</td>\n",
       "      <td>28</td>\n",
       "      <td>229</td>\n",
       "      <td>469</td>\n",
       "      <td>220.371157</td>\n",
       "    </tr>\n",
       "    <tr>\n",
       "      <th>12</th>\n",
       "      <td>2021-2022</td>\n",
       "      <td>31</td>\n",
       "      <td>10</td>\n",
       "      <td>239</td>\n",
       "      <td>500</td>\n",
       "      <td>235.825804</td>\n",
       "    </tr>\n",
       "    <tr>\n",
       "      <th>13</th>\n",
       "      <td>2022-2023</td>\n",
       "      <td>3</td>\n",
       "      <td>1</td>\n",
       "      <td>240</td>\n",
       "      <td>503</td>\n",
       "      <td>237.321415</td>\n",
       "    </tr>\n",
       "  </tbody>\n",
       "</table>\n",
       "</div>"
      ],
      "text/plain": [
       "    temporada  partidos  goles  golesac  partidosac  prediccion\n",
       "0   2009/2010        44     19       19          44    8.492933\n",
       "1   2010/2011        50     20       39          94   33.419783\n",
       "2   2011/2012        12      0       39         106   39.402227\n",
       "3   2012/2013        38     17       56         144   58.346632\n",
       "4   2013-2014        33     16       72         177   74.798353\n",
       "5   2014-2015        46     18       90         223   97.731055\n",
       "6   2015-2016        37     18      108         260  116.176924\n",
       "7   2016-2017        37     25      133         297  134.622793\n",
       "8   2017-2018        43     22      155         340  156.059884\n",
       "9   2018-2019        41     14      169         381  176.499901\n",
       "10  2019-2020        47     32      201         428  199.931140\n",
       "11  2020-2021        41     28      229         469  220.371157\n",
       "12  2021-2022        31     10      239         500  235.825804\n",
       "13  2022-2023         3      1      240         503  237.321415"
      ]
     },
     "execution_count": 12,
     "metadata": {},
     "output_type": "execute_result"
    }
   ],
   "source": [
    "data[\"prediccion\"] = pred #se agrega la predicción al data\n",
    "data "
   ]
  },
  {
   "cell_type": "markdown",
   "id": "183500c1",
   "metadata": {},
   "source": [
    "# Graficar regresión lineal"
   ]
  },
  {
   "cell_type": "code",
   "execution_count": 17,
   "id": "dd9e1e4e",
   "metadata": {
    "scrolled": true
   },
   "outputs": [
    {
     "data": {
      "text/plain": [
       "<AxesSubplot:xlabel='partidosac', ylabel='golesac'>"
      ]
     },
     "execution_count": 17,
     "metadata": {},
     "output_type": "execute_result"
    },
    {
     "data": {
      "image/png": "[encoded data removed]",
      "text/plain": [
       "<Figure size 432x288 with 1 Axes>"
      ]
     },
     "metadata": {
      "needs_background": "light"
     },
     "output_type": "display_data"
    }
   ],
   "source": [
    "ax = data.plot.line(x=\"partidosac\", y=\"prediccion\")\n",
    "data.plot.scatter(x=\"partidosac\", y=\"golesac\", ax= ax, color=\"red\")"
   ]
  },
  {
   "cell_type": "markdown",
   "id": "75098be0",
   "metadata": {},
   "source": [
    "# Validación del modelo con coeficiente de determinación o r cuadrado"
   ]
  },
  {
   "cell_type": "code",
   "execution_count": 14,
   "id": "72a6c621",
   "metadata": {},
   "outputs": [
    {
     "name": "stderr",
     "output_type": "stream",
     "text": [
      "C:\\Users\\tomas\\anaconda3\\lib\\site-packages\\scipy\\stats\\stats.py:1541: UserWarning: kurtosistest only valid for n>=20 ... continuing anyway, n=14\n",
      "  warnings.warn(\"kurtosistest only valid for n>=20 ... continuing \"\n"
     ]
    },
    {
     "data": {
      "text/html": [
       "<table class=\"simpletable\">\n",
       "<caption>OLS Regression Results</caption>\n",
       "<tr>\n",
       "  <th>Dep. Variable:</th>       <td>partidosac</td>    <th>  R-squared:         </th> <td>   0.995</td>\n",
       "</tr>\n",
       "<tr>\n",
       "  <th>Model:</th>                   <td>OLS</td>       <th>  Adj. R-squared:    </th> <td>   0.994</td>\n",
       "</tr>\n",
       "<tr>\n",
       "  <th>Method:</th>             <td>Least Squares</td>  <th>  F-statistic:       </th> <td>   2217.</td>\n",
       "</tr>\n",
       "<tr>\n",
       "  <th>Date:</th>             <td>Fri, 07 Oct 2022</td> <th>  Prob (F-statistic):</th> <td>5.50e-15</td>\n",
       "</tr>\n",
       "<tr>\n",
       "  <th>Time:</th>                 <td>16:19:05</td>     <th>  Log-Likelihood:    </th> <td> -53.619</td>\n",
       "</tr>\n",
       "<tr>\n",
       "  <th>No. Observations:</th>      <td>    14</td>      <th>  AIC:               </th> <td>   111.2</td>\n",
       "</tr>\n",
       "<tr>\n",
       "  <th>Df Residuals:</th>          <td>    12</td>      <th>  BIC:               </th> <td>   112.5</td>\n",
       "</tr>\n",
       "<tr>\n",
       "  <th>Df Model:</th>              <td>     1</td>      <th>                     </th>     <td> </td>   \n",
       "</tr>\n",
       "<tr>\n",
       "  <th>Covariance Type:</th>      <td>nonrobust</td>    <th>                     </th>     <td> </td>   \n",
       "</tr>\n",
       "</table>\n",
       "<table class=\"simpletable\">\n",
       "<tr>\n",
       "      <td></td>         <th>coef</th>     <th>std err</th>      <th>t</th>      <th>P>|t|</th>  <th>[0.025</th>    <th>0.975]</th>  \n",
       "</tr>\n",
       "<tr>\n",
       "  <th>Intercept</th> <td>   28.3442</td> <td>    6.298</td> <td>    4.500</td> <td> 0.001</td> <td>   14.622</td> <td>   42.067</td>\n",
       "</tr>\n",
       "<tr>\n",
       "  <th>golesac</th>   <td>    1.9951</td> <td>    0.042</td> <td>   47.086</td> <td> 0.000</td> <td>    1.903</td> <td>    2.087</td>\n",
       "</tr>\n",
       "</table>\n",
       "<table class=\"simpletable\">\n",
       "<tr>\n",
       "  <th>Omnibus:</th>       <td> 0.339</td> <th>  Durbin-Watson:     </th> <td>   0.766</td>\n",
       "</tr>\n",
       "<tr>\n",
       "  <th>Prob(Omnibus):</th> <td> 0.844</td> <th>  Jarque-Bera (JB):  </th> <td>   0.415</td>\n",
       "</tr>\n",
       "<tr>\n",
       "  <th>Skew:</th>          <td>-0.291</td> <th>  Prob(JB):          </th> <td>   0.813</td>\n",
       "</tr>\n",
       "<tr>\n",
       "  <th>Kurtosis:</th>      <td> 2.390</td> <th>  Cond. No.          </th> <td>    291.</td>\n",
       "</tr>\n",
       "</table><br/><br/>Notes:<br/>[1] Standard Errors assume that the covariance matrix of the errors is correctly specified."
      ],
      "text/plain": [
       "<class 'statsmodels.iolib.summary.Summary'>\n",
       "\"\"\"\n",
       "                            OLS Regression Results                            \n",
       "==============================================================================\n",
       "Dep. Variable:             partidosac   R-squared:                       0.995\n",
       "Model:                            OLS   Adj. R-squared:                  0.994\n",
       "Method:                 Least Squares   F-statistic:                     2217.\n",
       "Date:                Fri, 07 Oct 2022   Prob (F-statistic):           5.50e-15\n",
       "Time:                        16:19:05   Log-Likelihood:                -53.619\n",
       "No. Observations:                  14   AIC:                             111.2\n",
       "Df Residuals:                      12   BIC:                             112.5\n",
       "Df Model:                           1                                         \n",
       "Covariance Type:            nonrobust                                         \n",
       "==============================================================================\n",
       "                 coef    std err          t      P>|t|      [0.025      0.975]\n",
       "------------------------------------------------------------------------------\n",
       "Intercept     28.3442      6.298      4.500      0.001      14.622      42.067\n",
       "golesac        1.9951      0.042     47.086      0.000       1.903       2.087\n",
       "==============================================================================\n",
       "Omnibus:                        0.339   Durbin-Watson:                   0.766\n",
       "Prob(Omnibus):                  0.844   Jarque-Bera (JB):                0.415\n",
       "Skew:                          -0.291   Prob(JB):                        0.813\n",
       "Kurtosis:                       2.390   Cond. No.                         291.\n",
       "==============================================================================\n",
       "\n",
       "Notes:\n",
       "[1] Standard Errors assume that the covariance matrix of the errors is correctly specified.\n",
       "\"\"\""
      ]
     },
     "execution_count": 14,
     "metadata": {},
     "output_type": "execute_result"
    }
   ],
   "source": [
    "lm = smf.ols(formula=\"partidosac~golesac\", data= data).fit()\n",
    "lm.summary()"
   ]
  },
  {
   "cell_type": "code",
   "execution_count": 15,
   "id": "178c8659",
   "metadata": {},
   "outputs": [],
   "source": [
    "# el r2 es de 0,995, lo que significa que el modelo es preciso"
   ]
  }
 ],
 "metadata": {
  "kernelspec": {
   "display_name": "Python 3 (ipykernel)",
   "language": "python",
   "name": "python3"
  },
  "language_info": {
   "codemirror_mode": {
    "name": "ipython",
    "version": 3
   },
   "file_extension": ".py",
   "mimetype": "text/x-python",
   "name": "python",
   "nbconvert_exporter": "python",
   "pygments_lexer": "ipython3",
   "version": "3.9.12"
  }
 },
 "nbformat": 4,
 "nbformat_minor": 5
}
